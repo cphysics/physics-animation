{
 "cells": [
  {
   "cell_type": "markdown",
   "metadata": {},
   "source": [
    "## Wave and Oscillation"
   ]
  },
  {
   "cell_type": "code",
   "execution_count": 174,
   "metadata": {},
   "outputs": [],
   "source": [
    "import numpy as np\n",
    "import pandas as pd\n",
    "import matplotlib.pyplot as plt\n",
    "import os\n",
    "import glob\n",
    "import moviepy.editor as mpy\n",
    "from mpl_toolkits.mplot3d import axes3d\n",
    "import seaborn as sns\n",
    "sns.set()"
   ]
  },
  {
   "cell_type": "markdown",
   "metadata": {},
   "source": [
    "- Define Amplitude, angular frequency, wave vector"
   ]
  },
  {
   "cell_type": "code",
   "execution_count": 123,
   "metadata": {},
   "outputs": [],
   "source": [
    "A = 1.0\n",
    "w = 2*np.pi\n",
    "k = 2*np.pi"
   ]
  },
  {
   "cell_type": "markdown",
   "metadata": {},
   "source": [
    "- Calcualte frequency, weblength and velocity"
   ]
  },
  {
   "cell_type": "code",
   "execution_count": 146,
   "metadata": {},
   "outputs": [
    {
     "data": {
      "text/plain": [
       "(1.0, 1.0, 1.0)"
      ]
     },
     "execution_count": 146,
     "metadata": {},
     "output_type": "execute_result"
    }
   ],
   "source": [
    "f = w/(2*np.pi)\n",
    "wl = 2*np.pi/k\n",
    "v = f*wl\n",
    "(f,wl,v)"
   ]
  },
  {
   "cell_type": "markdown",
   "metadata": {},
   "source": [
    "#### Plot the different configuration of wave motion"
   ]
  },
  {
   "cell_type": "code",
   "execution_count": 134,
   "metadata": {},
   "outputs": [],
   "source": [
    "x = np.arange(0,5,0.05)\n",
    "t = np.arange(0,5,0.05)"
   ]
  },
  {
   "cell_type": "markdown",
   "metadata": {},
   "source": [
    "### Animation"
   ]
  },
  {
   "cell_type": "code",
   "execution_count": 209,
   "metadata": {},
   "outputs": [],
   "source": [
    "def getPhaseGif(path,fname,fps,remove = True):\n",
    "    '''create a gif movie file from phase circle figures'''\n",
    "    file_list = glob.glob(path+ \"/*.png\") \n",
    "    list.sort(file_list, key=lambda x: int(x.split('_')[1].split('.png')[0]))\n",
    "    clip = mpy.ImageSequenceClip(file_list, fps=fps)\n",
    "    clip.write_gif('{}.gif'.format(fname), fps=fps)\n",
    "    '''remove all image files after gif creation'''\n",
    "    if remove:\n",
    "        for file in file_list:\n",
    "            os.remove(file)\n",
    "    return  "
   ]
  },
  {
   "cell_type": "code",
   "execution_count": 210,
   "metadata": {},
   "outputs": [],
   "source": [
    "for i,tt in enumerate(t):\n",
    "    y = A*np.sin(w*tt - k*x)\n",
    "    plt.figure(figsize = [12,4])\n",
    "    plt.stem(y,use_line_collection=True)\n",
    "    plt.xlabel(\"Distance\")\n",
    "    plt.ylabel(\"Amplitude\")\n",
    "    #plt.title('Particle displacements at t=2.0')\n",
    "    plt.savefig('plot/plot_' + str(i) + \".png\")\n",
    "    plt.close()"
   ]
  },
  {
   "cell_type": "code",
   "execution_count": 211,
   "metadata": {},
   "outputs": [
    {
     "name": "stderr",
     "output_type": "stream",
     "text": [
      "t:   5%|▌         | 5/100 [00:00<00:02, 42.62it/s, now=None]"
     ]
    },
    {
     "name": "stdout",
     "output_type": "stream",
     "text": [
      "MoviePy - Building file wave.gif with imageio.\n"
     ]
    },
    {
     "name": "stderr",
     "output_type": "stream",
     "text": [
      "                                                              "
     ]
    },
    {
     "name": "stdout",
     "output_type": "stream",
     "text": [
      "gif file is ready!\n"
     ]
    },
    {
     "name": "stderr",
     "output_type": "stream",
     "text": [
      "\r"
     ]
    }
   ],
   "source": [
    "path = \"plot/\"\n",
    "fname = \"wave\"\n",
    "fps =5\n",
    "getPhaseGif(path,fname,fps,remove = True)\n",
    "print(\"gif file is ready!\")"
   ]
  },
  {
   "cell_type": "markdown",
   "metadata": {},
   "source": [
    "![img](wave.gif)"
   ]
  },
  {
   "cell_type": "markdown",
   "metadata": {},
   "source": [
    "### References"
   ]
  },
  {
   "cell_type": "code",
   "execution_count": null,
   "metadata": {},
   "outputs": [],
   "source": []
  }
 ],
 "metadata": {
  "kernelspec": {
   "display_name": "Python 3",
   "language": "python",
   "name": "python3"
  },
  "language_info": {
   "codemirror_mode": {
    "name": "ipython",
    "version": 3
   },
   "file_extension": ".py",
   "mimetype": "text/x-python",
   "name": "python",
   "nbconvert_exporter": "python",
   "pygments_lexer": "ipython3",
   "version": "3.7.6"
  }
 },
 "nbformat": 4,
 "nbformat_minor": 4
}
