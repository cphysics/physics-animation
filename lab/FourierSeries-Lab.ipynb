{
 "cells": [
  {
   "cell_type": "markdown",
   "metadata": {},
   "source": [
    "## Fourier Series Lab\n",
    "\n",
    "Describe Fourier Series here....."
   ]
  },
  {
   "cell_type": "markdown",
   "metadata": {},
   "source": [
    "### Animation"
   ]
  },
  {
   "cell_type": "code",
   "execution_count": 4,
   "metadata": {},
   "outputs": [],
   "source": [
    "import os\n",
    "import glob\n",
    "import moviepy.editor as mpy\n",
    "from mpl_toolkits.mplot3d import axes3d\n",
    "import matplotlib.pyplot as plt\n",
    "import pandas as pd\n",
    "import numpy as np\n",
    "import seaborn as sns\n",
    "sns.set()"
   ]
  },
  {
   "cell_type": "code",
   "execution_count": 5,
   "metadata": {},
   "outputs": [],
   "source": [
    "def getPhaseGif(path,fname,fps,remove = True):\n",
    "    '''create a gif movie file from phase circle figures'''\n",
    "    file_list = glob.glob(path+ \"/*.png\") \n",
    "    list.sort(file_list, key=lambda x: int(x.split('_')[1].split('.png')[0]))\n",
    "    clip = mpy.ImageSequenceClip(file_list, fps=fps)\n",
    "    clip.write_gif('{}.gif'.format(fname), fps=fps)\n",
    "    '''remove all image files after gif creation'''\n",
    "    if remove:\n",
    "        for file in file_list:\n",
    "            os.remove(file)\n",
    "    return  "
   ]
  },
  {
   "cell_type": "code",
   "execution_count": 6,
   "metadata": {},
   "outputs": [],
   "source": [
    "R = 100"
   ]
  },
  {
   "cell_type": "markdown",
   "metadata": {},
   "source": [
    "### Even Basis"
   ]
  },
  {
   "cell_type": "code",
   "execution_count": 7,
   "metadata": {},
   "outputs": [],
   "source": [
    "X = [i for i in range(R)]\n",
    "Y1 = [1*np.cos(1*np.pi/18*i) for i in range(R)]\n",
    "Y2 = [1/2*np.cos(2*np.pi/18*i) for i in range(R)]\n",
    "Y3 = [1/4*np.cos(3*np.pi/18*i) for i in range(R)]\n",
    "Y4 = [1/8*np.cos(4*np.pi/18*i) for i in range(R)]"
   ]
  },
  {
   "cell_type": "code",
   "execution_count": 8,
   "metadata": {},
   "outputs": [],
   "source": [
    "for i in range(100):\n",
    "    \n",
    "    plt.figure(figsize = [10,4])\n",
    "\n",
    "    plt.scatter(X[i],Y1[i])\n",
    "    plt.plot(X[0:i],Y1[0:i])\n",
    "    plt.text(X[i]+1, Y1[i], r'$\\cos(\\theta)$')\n",
    "    \n",
    "    plt.scatter(X[i],Y2[i])\n",
    "    plt.plot(X[0:i],Y2[0:i])\n",
    "    plt.text(X[i]+1, Y2[i], r'$1/2 \\cos(2 \\theta)$')\n",
    "    \n",
    "    plt.scatter(X[i],Y3[i])\n",
    "    plt.plot(X[0:i],Y3[0:i])\n",
    "    plt.text(X[i]+1, Y3[i], r'$1/4 \\cos(3 \\theta)$')\n",
    "    \n",
    "    plt.scatter(X[i],Y4[i])\n",
    "    plt.plot(X[0:i],Y4[0:i])\n",
    "    plt.text(X[i]+1, Y4[i], r'$1/8 \\cos(4 \\theta)$')\n",
    "    \n",
    "    plt.ylim([-1.5,1.5])\n",
    "    plt.xlim([-1,105])\n",
    "    \n",
    "    plt.savefig(\"plot/plot_\" + str(i) + \".png\")\n",
    "    plt.close()"
   ]
  },
  {
   "cell_type": "code",
   "execution_count": 9,
   "metadata": {},
   "outputs": [
    {
     "name": "stderr",
     "output_type": "stream",
     "text": [
      "t:   5%|▌         | 5/100 [00:00<00:02, 43.77it/s, now=None]"
     ]
    },
    {
     "name": "stdout",
     "output_type": "stream",
     "text": [
      "MoviePy - Building file cos.gif with imageio.\n"
     ]
    },
    {
     "name": "stderr",
     "output_type": "stream",
     "text": [
      "                                                             "
     ]
    },
    {
     "name": "stdout",
     "output_type": "stream",
     "text": [
      "gif file is ready!\n"
     ]
    },
    {
     "name": "stderr",
     "output_type": "stream",
     "text": [
      "\r"
     ]
    }
   ],
   "source": [
    "path = \"plot/\"\n",
    "fname = \"cos\"\n",
    "fps =5\n",
    "getPhaseGif(path,fname,fps,remove = True)\n",
    "print(\"gif file is ready!\")"
   ]
  },
  {
   "cell_type": "markdown",
   "metadata": {},
   "source": [
    "![img](cos.gif)"
   ]
  },
  {
   "cell_type": "markdown",
   "metadata": {},
   "source": [
    "#### Odd Basis"
   ]
  },
  {
   "cell_type": "code",
   "execution_count": 11,
   "metadata": {},
   "outputs": [],
   "source": [
    "X = [i for i in range(R)]\n",
    "Y1 = [1*np.sin(1*np.pi/18*i) for i in range(R)]\n",
    "Y2 = [1/2*np.sin(2*np.pi/18*i) for i in range(R)]\n",
    "Y3 = [1/4*np.sin(3*np.pi/18*i) for i in range(R)]\n",
    "Y4 = [1/8*np.sin(4*np.pi/18*i) for i in range(R)]"
   ]
  },
  {
   "cell_type": "code",
   "execution_count": 12,
   "metadata": {},
   "outputs": [],
   "source": [
    "for i in range(100):\n",
    "    \n",
    "    plt.figure(figsize = [10,4])\n",
    "\n",
    "    plt.scatter(X[i],Y1[i])\n",
    "    plt.plot(X[0:i],Y1[0:i])\n",
    "    plt.text(X[i]+1, Y1[i], r'$\\sin(\\theta)$')\n",
    "    \n",
    "    plt.scatter(X[i],Y2[i])\n",
    "    plt.plot(X[0:i],Y2[0:i])\n",
    "    plt.text(X[i]+1, Y2[i], r'$1/2 \\sin(2 \\theta)$')\n",
    "    \n",
    "    plt.scatter(X[i],Y3[i])\n",
    "    plt.plot(X[0:i],Y3[0:i])\n",
    "    plt.text(X[i]+1, Y3[i], r'$1/4 \\sin(3 \\theta)$')\n",
    "    \n",
    "    plt.scatter(X[i],Y4[i])\n",
    "    plt.plot(X[0:i],Y4[0:i])\n",
    "    plt.text(X[i]+1, Y4[i], r'$1/8 \\sin(4 \\theta)$')\n",
    "    \n",
    "    plt.ylim([-1.5,1.5])\n",
    "    plt.xlim([-1,105])\n",
    "    \n",
    "    plt.savefig(\"plot/plot_\" + str(i) + \".png\")\n",
    "    plt.close()"
   ]
  },
  {
   "cell_type": "code",
   "execution_count": 13,
   "metadata": {},
   "outputs": [
    {
     "name": "stderr",
     "output_type": "stream",
     "text": [
      "t:   5%|▌         | 5/100 [00:00<00:02, 43.49it/s, now=None]"
     ]
    },
    {
     "name": "stdout",
     "output_type": "stream",
     "text": [
      "MoviePy - Building file sin.gif with imageio.\n"
     ]
    },
    {
     "name": "stderr",
     "output_type": "stream",
     "text": [
      "                                                             "
     ]
    },
    {
     "name": "stdout",
     "output_type": "stream",
     "text": [
      "gif file is ready!\n"
     ]
    },
    {
     "name": "stderr",
     "output_type": "stream",
     "text": [
      "\r"
     ]
    }
   ],
   "source": [
    "path = \"plot/\"\n",
    "fname = \"sin\"\n",
    "fps =5\n",
    "getPhaseGif(path,fname,fps,remove = True)\n",
    "print(\"gif file is ready!\")"
   ]
  },
  {
   "cell_type": "markdown",
   "metadata": {},
   "source": [
    "![img](sin.gif)"
   ]
  },
  {
   "cell_type": "code",
   "execution_count": null,
   "metadata": {},
   "outputs": [],
   "source": []
  }
 ],
 "metadata": {
  "kernelspec": {
   "display_name": "Python 3",
   "language": "python",
   "name": "python3"
  },
  "language_info": {
   "codemirror_mode": {
    "name": "ipython",
    "version": 3
   },
   "file_extension": ".py",
   "mimetype": "text/x-python",
   "name": "python",
   "nbconvert_exporter": "python",
   "pygments_lexer": "ipython3",
   "version": "3.7.6"
  }
 },
 "nbformat": 4,
 "nbformat_minor": 2
}
