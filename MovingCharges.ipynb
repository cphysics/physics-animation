{
 "cells": [
  {
   "cell_type": "markdown",
   "metadata": {},
   "source": [
    "### ElectroDynamics"
   ]
  },
  {
   "cell_type": "code",
   "execution_count": 1,
   "metadata": {},
   "outputs": [],
   "source": [
    "import sys\n",
    "import numpy as np\n",
    "import matplotlib.pyplot as plt\n",
    "from matplotlib.patches import Circle"
   ]
  },
  {
   "cell_type": "code",
   "execution_count": 2,
   "metadata": {},
   "outputs": [],
   "source": [
    "import os\n",
    "import glob\n",
    "import moviepy.editor as mpy\n",
    "from mpl_toolkits.mplot3d import axes3d\n",
    "import matplotlib.pyplot as plt"
   ]
  },
  {
   "cell_type": "code",
   "execution_count": 3,
   "metadata": {},
   "outputs": [],
   "source": [
    "def E(q, r0, x, y):\n",
    "    \"\"\"Return the electric field vector E=(Ex,Ey) due to charge q at r0.\"\"\"\n",
    "    den = np.hypot(x-r0[0], y-r0[1])**3\n",
    "    return q * (x - r0[0]) / den, q * (y - r0[1]) / den"
   ]
  },
  {
   "cell_type": "markdown",
   "metadata": {},
   "source": [
    "-----"
   ]
  },
  {
   "cell_type": "code",
   "execution_count": 4,
   "metadata": {},
   "outputs": [],
   "source": [
    "def getPhaseGif(path,fname,fps,remove = True):\n",
    "    '''create a gif movie file from phase circle figures'''\n",
    "    file_list = glob.glob(path+ \"/*.png\") \n",
    "    list.sort(file_list, key=lambda x: int(x.split('_')[1].split('.png')[0]))\n",
    "    clip = mpy.ImageSequenceClip(file_list, fps=fps)\n",
    "    clip.write_gif('{}.gif'.format(fname), fps=fps)\n",
    "    '''remove all image files after gif creation'''\n",
    "    if remove:\n",
    "        for file in file_list:\n",
    "            os.remove(file)\n",
    "    return  "
   ]
  },
  {
   "cell_type": "markdown",
   "metadata": {},
   "source": [
    "### MultiPlot"
   ]
  },
  {
   "cell_type": "code",
   "execution_count": 22,
   "metadata": {},
   "outputs": [],
   "source": [
    "N = 2\n",
    "L = 8\n",
    "T = 200"
   ]
  },
  {
   "cell_type": "code",
   "execution_count": 23,
   "metadata": {},
   "outputs": [],
   "source": [
    "for t in range(T):\n",
    "    nq = 2**int(N)\n",
    "    # Grid of x, y points\n",
    "    nx, ny = 2*128, 2*128\n",
    "    x = np.linspace(-L, L, nx)\n",
    "    y = np.linspace(-L, L, ny)\n",
    "    X, Y = np.meshgrid(x, y)\n",
    "\n",
    "    # Create a multipole with nq charges of alternating sign, equally spaced\n",
    "    # on the unit circle.\n",
    "    \n",
    "    dw = t*2*np.pi/float(T)\n",
    "    \n",
    "    charges = []\n",
    "    for i in range(nq):\n",
    "        q = i%2 * 2 - 1\n",
    "        charges.append((q, (np.cos((2*np.pi*i/nq)+dw),\\\n",
    "                            np.sin((2*np.pi*i/nq)+dw))))\n",
    "\n",
    "    # Electric field vector, E=(Ex, Ey), as separate components\n",
    "    Ex, Ey = np.zeros((ny, nx)), np.zeros((ny, nx))\n",
    "    for charge in charges:\n",
    "        ex, ey = E(*charge, x=X, y=Y)\n",
    "        Ex += ex\n",
    "        Ey += ey\n",
    "\n",
    "    fig = plt.figure(figsize = [12,10])\n",
    "    ax = fig.add_subplot(111)\n",
    "\n",
    "    # Plot the streamlines with an appropriate colormap and arrow style\n",
    "    color = 2 * np.log(np.hypot(Ex, Ey))\n",
    "    \n",
    "    ax.streamplot(x, y, Ex, Ey,\\\n",
    "                  color=color, linewidth=1,\\\n",
    "                  cmap=plt.cm.inferno,\n",
    "                  density=2, arrowstyle='->',\\\n",
    "                  arrowsize=1.5)\n",
    "\n",
    "    # Add filled circles for the charges themselves\n",
    "    charge_colors = {True: '#aa0000', False: '#0000aa'}\n",
    "    for q, pos in charges:\n",
    "        ax.add_artist(Circle(pos, 0.05, color=charge_colors[q>0]))\n",
    "\n",
    "    ax.set_xlabel('$x$')\n",
    "    ax.set_ylabel('$y$')\n",
    "    ax.set_xlim(-L,L)\n",
    "    ax.set_ylim(-L,L)\n",
    "    ax.set_aspect('equal')\n",
    "    plt.savefig(\"mov/mov_\"+str(t)+\".png\")\n",
    "    plt.close(fig)"
   ]
  },
  {
   "cell_type": "code",
   "execution_count": 24,
   "metadata": {},
   "outputs": [
    {
     "name": "stderr",
     "output_type": "stream",
     "text": [
      "t:   1%|          | 2/201 [00:00<00:10, 19.88it/s, now=None]"
     ]
    },
    {
     "name": "stdout",
     "output_type": "stream",
     "text": [
      "MoviePy - Building file mov.gif with imageio.\n"
     ]
    },
    {
     "name": "stderr",
     "output_type": "stream",
     "text": [
      "                                                              "
     ]
    },
    {
     "name": "stdout",
     "output_type": "stream",
     "text": [
      "gif file is ready!\n"
     ]
    },
    {
     "name": "stderr",
     "output_type": "stream",
     "text": [
      "\r"
     ]
    }
   ],
   "source": [
    "path = \"mov/\"\n",
    "fname = \"mov\"\n",
    "fps =5\n",
    "getPhaseGif(path,fname,fps,remove = False)\n",
    "print(\"gif file is ready!\")"
   ]
  },
  {
   "cell_type": "markdown",
   "metadata": {},
   "source": [
    "![img](plot/mov.gif)"
   ]
  },
  {
   "cell_type": "code",
   "execution_count": null,
   "metadata": {},
   "outputs": [],
   "source": []
  }
 ],
 "metadata": {
  "kernelspec": {
   "display_name": "Python 3",
   "language": "python",
   "name": "python3"
  },
  "language_info": {
   "codemirror_mode": {
    "name": "ipython",
    "version": 3
   },
   "file_extension": ".py",
   "mimetype": "text/x-python",
   "name": "python",
   "nbconvert_exporter": "python",
   "pygments_lexer": "ipython3",
   "version": "3.7.3"
  }
 },
 "nbformat": 4,
 "nbformat_minor": 4
}
